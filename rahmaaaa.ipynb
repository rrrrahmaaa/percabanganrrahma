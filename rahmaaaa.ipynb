{
 "cells": [
  {
   "cell_type": "code",
   "execution_count": 2,
   "id": "e5170799-2309-44db-99d8-ea7cb14f8520",
   "metadata": {},
   "outputs": [
    {
     "name": "stdin",
     "output_type": "stream",
     "text": [
      "Masukan Nilai : 12\n",
      "Masukan Nilai interview : 80\n"
     ]
    },
    {
     "name": "stdout",
     "output_type": "stream",
     "text": [
      "Maaf Kamu Belum Berhasil Menjadi Calon Programmer\n"
     ]
    }
   ],
   "source": [
    "nilai_coding = int(input(\"Masukan Nilai :\"))\n",
    "hasil_coding =''\n",
    "\n",
    "if nilai_coding > 80  and nilai_coding <=100:\n",
    "   hasil_coding =\"LOLOS\"\n",
    "elif nilai_coding >=60 and nilai_coding <=80:\n",
    "     hasil_coding= \"DIPERTIMBANGKAN\"\n",
    "elif nilai_coding >= 0 and nilai_coding <  60 :\n",
    "     hasil_coding = \"GAGAL\"\n",
    "else: \n",
    "    print(\"input anda salah\")\n",
    "nilai_interview = input(\"Masukan Nilai interview :\")\n",
    "hasil_interview =''\n",
    "\n",
    "if  nilai_interview == \"A\" or nilai_interview == \"B\":\n",
    "    hasil_interview = \"LOLOS\"    \n",
    "else:\n",
    "    hasil_interview = \"GAGAL\"\n",
    "    \n",
    "if (hasil_coding == \"LOLOS\" or hasil_coding == \"DIPERTIMBANGKAN\") and hasil_interview == \"LOLOS\":\n",
    "    print(\"Selamat Kamu Berhasil Menjadi Calon Programmer\")\n",
    "else:    \n",
    "    print(\"Maaf Kamu Belum Berhasil Menjadi Calon Programmer\")"
   ]
  },
  {
   "cell_type": "code",
   "execution_count": null,
   "id": "25b742ab-be6e-466d-9057-10d480864ea2",
   "metadata": {},
   "outputs": [],
   "source": []
  }
 ],
 "metadata": {
  "kernelspec": {
   "display_name": "Python 3 (ipykernel)",
   "language": "python",
   "name": "python3"
  },
  "language_info": {
   "codemirror_mode": {
    "name": "ipython",
    "version": 3
   },
   "file_extension": ".py",
   "mimetype": "text/x-python",
   "name": "python",
   "nbconvert_exporter": "python",
   "pygments_lexer": "ipython3",
   "version": "3.11.7"
  }
 },
 "nbformat": 4,
 "nbformat_minor": 5
}
