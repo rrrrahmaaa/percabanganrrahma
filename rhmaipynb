{
 "cells": [
  {
   "cell_type": "code",
   "execution_count": 1,
   "id": "dc235e70-6af9-4794-b531-90655085fcaa",
   "metadata": {},
   "outputs": [
    {
     "name": "stdin",
     "output_type": "stream",
     "text": [
      "masukan nomor punggung : 30\n"
     ]
    },
    {
     "name": "stdout",
     "output_type": "stream",
     "text": [
      "posisi :target attacker\n"
     ]
    }
   ],
   "source": [
    "nomor_punggung = int(input(\"masukan nomor punggung :\"))\n",
    "posisi_pemain =''\n",
    "if nomor_punggung % 2 == 0:\n",
    "    if nomor_punggung >= 50 and nomor_punggung <=100:\n",
    "        posisi_pemain = \"berhak di pilih menjadi captain team\"\n",
    "    else:\n",
    "        posisi_pemain =\"target attacker\"\n",
    "else:\n",
    "    if nomor_punggung > 90:\n",
    "        posisi_pemain = \"playmaker\"\n",
    "    elif  nomor_punggung % 3 == 0 and nomor_punggung % 5 == 0:\n",
    "        posisi_pemain = \"keeper\"\n",
    "    else:\n",
    "        posisi_pemain = \"defender\"\n",
    "print(\"posisi :\"+posisi_pemain)"
   ]
  },
  {
   "cell_type": "code",
   "execution_count": null,
   "id": "66fbab11-42a7-4d88-b5be-6a48ad5566f5",
   "metadata": {},
   "outputs": [],
   "source": []
  }
 ],
 "metadata": {
  "kernelspec": {
   "display_name": "Python 3 (ipykernel)",
   "language": "python",
   "name": "python3"
  },
  "language_info": {
   "codemirror_mode": {
    "name": "ipython",
    "version": 3
   },
   "file_extension": ".py",
   "mimetype": "text/x-python",
   "name": "python",
   "nbconvert_exporter": "python",
   "pygments_lexer": "ipython3",
   "version": "3.11.7"
  }
 },
 "nbformat": 4,
 "nbformat_minor": 5
}
